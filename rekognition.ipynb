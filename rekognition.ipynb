{
 "cells": [
  {
   "cell_type": "markdown",
   "metadata": {},
   "source": [
    "# Proposta de sistema de OCR, onde a analise da imagem, utiliza o algoritmo de machine learning da AWS Rekognition"
   ]
  },
  {
   "cell_type": "code",
   "execution_count": null,
   "metadata": {},
   "outputs": [],
   "source": [
    "import boto3\n",
    "import random\n",
    "import json"
   ]
  },
  {
   "cell_type": "code",
   "execution_count": 6,
   "metadata": {},
   "outputs": [
    {
     "name": "stdout",
     "output_type": "stream",
     "text": [
      "{\"data\": [{\"exam\": \"Glicose\", \"chk\": 1}, {\"exam\": \"Creatinina\", \"chk\": 1}, {\"exam\": \"Colesterol Hdl\", \"chk\": 0}, {\"exam\": \"Ureia\", \"chk\": 0}]}\n"
     ]
    }
   ],
   "source": [
    "bucket='hackadasa'\n",
    "photo='guia_1.png'\n",
    "\n",
    "client=boto3.client('rekognition')\n",
    "\n",
    "\n",
    "response=client.detect_text(Image={'S3Object':{'Bucket':bucket,'Name':photo}})\n",
    "\n",
    "\n",
    "textDetections=response['TextDetections']\n",
    "#print( response)\n",
    "#print( 'Matching faces')\n",
    "\n",
    "result = {\"data\":[]}\n",
    "#json_data[\"key\"] = \"value\"\n",
    "\n",
    "for text in textDetections:\n",
    "    if text['Id'] >= 8 and text['Id'] <= 11:\n",
    "        #print( 'Detected text:' + text['DetectedText'][3:] + ' Value: ' + str(random.randint(0,1)))\n",
    "        result[\"data\"].append({'exam':text['DetectedText'][3:],\n",
    "                               'chk':random.randint(0,1)})\n",
    "\n",
    "json_data = json.dumps(result)\n",
    "\n",
    "print(json_data)"
   ]
  }
 ],
 "metadata": {
  "kernelspec": {
   "display_name": "Python 3",
   "language": "python",
   "name": "python3"
  },
  "language_info": {
   "codemirror_mode": {
    "name": "ipython",
    "version": 3
   },
   "file_extension": ".py",
   "mimetype": "text/x-python",
   "name": "python",
   "nbconvert_exporter": "python",
   "pygments_lexer": "ipython3",
   "version": "3.6.4"
  }
 },
 "nbformat": 4,
 "nbformat_minor": 2
}
